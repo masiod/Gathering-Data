{
 "cells": [
  {
   "cell_type": "code",
   "execution_count": 2,
   "id": "b4bf35dd",
   "metadata": {},
   "outputs": [],
   "source": [
    "#import PIL (pillow library)\n",
    "from PIL import Image"
   ]
  },
  {
   "cell_type": "code",
   "execution_count": 11,
   "id": "bb6ebd9a",
   "metadata": {},
   "outputs": [],
   "source": [
    "ami=Image.open('goldfish.jpg')\n",
    "ami.show()"
   ]
  },
  {
   "cell_type": "code",
   "execution_count": 9,
   "id": "328f9061",
   "metadata": {},
   "outputs": [
    {
     "data": {
      "text/plain": [
       "(376, 263)"
      ]
     },
     "execution_count": 9,
     "metadata": {},
     "output_type": "execute_result"
    }
   ],
   "source": [
    "ami.size"
   ]
  },
  {
   "cell_type": "code",
   "execution_count": 10,
   "id": "ce058c6e",
   "metadata": {},
   "outputs": [],
   "source": [
    "#flip the image from top to bottm\n",
    "flipped_im=ami.transpose(Image.FLIP_TOP_BOTTOM)\n",
    "flipped_im.show()"
   ]
  }
 ],
 "metadata": {
  "kernelspec": {
   "display_name": "Python 3 (ipykernel)",
   "language": "python",
   "name": "python3"
  },
  "language_info": {
   "codemirror_mode": {
    "name": "ipython",
    "version": 3
   },
   "file_extension": ".py",
   "mimetype": "text/x-python",
   "name": "python",
   "nbconvert_exporter": "python",
   "pygments_lexer": "ipython3",
   "version": "3.11.5"
  }
 },
 "nbformat": 4,
 "nbformat_minor": 5
}
