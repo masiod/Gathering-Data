{
 "cells": [
  {
   "cell_type": "code",
   "execution_count": 5,
   "id": "12dc30a0",
   "metadata": {},
   "outputs": [],
   "source": [
    "#import libraries glob and pandas\n",
    "import glob \n",
    "import pandas as pd"
   ]
  },
  {
   "cell_type": "code",
   "execution_count": 6,
   "id": "81182c76",
   "metadata": {},
   "outputs": [
    {
     "data": {
      "text/plain": [
       "['ebert_reviews_2017\\\\1-the-wizard-of-oz-1939-film.txt',\n",
       " 'ebert_reviews_2017\\\\2-citizen-kane.txt',\n",
       " 'ebert_reviews_2017\\\\3-the-third-man.txt']"
      ]
     },
     "execution_count": 6,
     "metadata": {},
     "output_type": "execute_result"
    }
   ],
   "source": [
    "glob.glob('ebert_reviews_2017/*.txt')"
   ]
  },
  {
   "cell_type": "code",
   "execution_count": 16,
   "id": "245fe721",
   "metadata": {},
   "outputs": [],
   "source": [
    "text_list=[]\n",
    "#for loop through files in dict thats we bring by glob\n",
    "for ebert_reviews in glob.glob('ebert_reviews_2017/*.txt'):\n",
    "    with open(ebert_reviews,encoding='utf-8') as file:\n",
    "        #read by readline func title \n",
    "        title=file.readline()[:-1]\n",
    "        #read 2nd line for url \n",
    "        review_url=file.readline()[:-1]\n",
    "        #read the rest of in text by read() func\n",
    "        review_text=file.read()\n",
    "        text_list.append({'title':title,\n",
    "                          'review_url':review_url,\n",
    "                          'review_text':review_text})\n",
    "\n",
    "        \n",
    "        \n",
    "#Convert list of dictionaries to Dataframe\n",
    "df=pd.DataFrame(text_list,columns=['title','review_url','review_text'])\n",
    "        \n",
    "        "
   ]
  },
  {
   "cell_type": "code",
   "execution_count": 17,
   "id": "95f0d7b0",
   "metadata": {},
   "outputs": [
    {
     "data": {
      "text/html": [
       "<div>\n",
       "<style scoped>\n",
       "    .dataframe tbody tr th:only-of-type {\n",
       "        vertical-align: middle;\n",
       "    }\n",
       "\n",
       "    .dataframe tbody tr th {\n",
       "        vertical-align: top;\n",
       "    }\n",
       "\n",
       "    .dataframe thead th {\n",
       "        text-align: right;\n",
       "    }\n",
       "</style>\n",
       "<table border=\"1\" class=\"dataframe\">\n",
       "  <thead>\n",
       "    <tr style=\"text-align: right;\">\n",
       "      <th></th>\n",
       "      <th>title</th>\n",
       "      <th>review_url</th>\n",
       "      <th>review_text</th>\n",
       "    </tr>\n",
       "  </thead>\n",
       "  <tbody>\n",
       "    <tr>\n",
       "      <th>0</th>\n",
       "      <td>The Wizard of Oz (1939)</td>\n",
       "      <td>http://www.rogerebert.com/reviews/great-movie-...</td>\n",
       "      <td>As a child I simply did not notice whether a m...</td>\n",
       "    </tr>\n",
       "    <tr>\n",
       "      <th>1</th>\n",
       "      <td>Citizen Kane (1941)</td>\n",
       "      <td>http://www.rogerebert.com/reviews/great-movie-...</td>\n",
       "      <td>“I don't think any word can explain a man's li...</td>\n",
       "    </tr>\n",
       "    <tr>\n",
       "      <th>2</th>\n",
       "      <td>The Third Man (1949)</td>\n",
       "      <td>http://www.rogerebert.com/reviews/great-movie-...</td>\n",
       "      <td>Has there ever been a film where the music mor...</td>\n",
       "    </tr>\n",
       "  </tbody>\n",
       "</table>\n",
       "</div>"
      ],
      "text/plain": [
       "                     title                                         review_url  \\\n",
       "0  The Wizard of Oz (1939)  http://www.rogerebert.com/reviews/great-movie-...   \n",
       "1      Citizen Kane (1941)  http://www.rogerebert.com/reviews/great-movie-...   \n",
       "2     The Third Man (1949)  http://www.rogerebert.com/reviews/great-movie-...   \n",
       "\n",
       "                                         review_text  \n",
       "0  As a child I simply did not notice whether a m...  \n",
       "1  “I don't think any word can explain a man's li...  \n",
       "2  Has there ever been a film where the music mor...  "
      ]
     },
     "execution_count": 17,
     "metadata": {},
     "output_type": "execute_result"
    }
   ],
   "source": [
    "#display df dataFrame\n",
    "df.head()"
   ]
  },
  {
   "cell_type": "code",
   "execution_count": null,
   "id": "b10d2813",
   "metadata": {},
   "outputs": [],
   "source": []
  },
  {
   "cell_type": "code",
   "execution_count": null,
   "id": "25321e75",
   "metadata": {},
   "outputs": [],
   "source": []
  }
 ],
 "metadata": {
  "kernelspec": {
   "display_name": "Python 3 (ipykernel)",
   "language": "python",
   "name": "python3"
  },
  "language_info": {
   "codemirror_mode": {
    "name": "ipython",
    "version": 3
   },
   "file_extension": ".py",
   "mimetype": "text/x-python",
   "name": "python",
   "nbconvert_exporter": "python",
   "pygments_lexer": "ipython3",
   "version": "3.9.13"
  }
 },
 "nbformat": 4,
 "nbformat_minor": 5
}
