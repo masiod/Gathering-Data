{
 "cells": [
  {
   "cell_type": "markdown",
   "id": "6748381c",
   "metadata": {},
   "source": [
    "# Exercise - Gathering Multiple Datasets\n",
    "\n",
    "In this excersise, you will gather the hospital building data using three different gathering methods. The data includes information on hospital buildings such as height, number of stories, etc.\n",
    "\n",
    "Ensure you programmatically load your dataset(s) into the notebook."
   ]
  },
  {
   "cell_type": "code",
   "execution_count": 1,
   "id": "4251e92c",
   "metadata": {},
   "outputs": [],
   "source": [
    "#Imports - can be modified\n",
    "import requests\n",
    "from bs4 import BeautifulSoup\n",
    "import json\n",
    "import pandas as pd"
   ]
  },
  {
   "cell_type": "markdown",
   "id": "9bc064b9",
   "metadata": {},
   "source": [
    "## 1. Extract a dataset via API"
   ]
  },
  {
   "cell_type": "markdown",
   "id": "adad0f09",
   "metadata": {},
   "source": [
    "### 1.1 Extract a dataset via API\n",
    "You may use the requests library to do so programmatically, or manually access the dataset via an API:\n",
    "\n",
    "https://data.chhs.ca.gov/api/3/action/datastore_search?resource_id=d97adf28-ebaf-4204-a29e-bb6bdb7f96b9"
   ]
  },
  {
   "cell_type": "code",
   "execution_count": 3,
   "id": "bbcef5d5",
   "metadata": {},
   "outputs": [
    {
     "ename": "HTTPError",
     "evalue": "403 Client Error: Forbidden for url: https://data.chhs.ca.gov/api/3/action/datastore_search?resource_id=d97adf28-ebaf-4204-a29e-bb6bdb7f96b9",
     "output_type": "error",
     "traceback": [
      "\u001b[1;31m---------------------------------------------------------------------------\u001b[0m",
      "\u001b[1;31mHTTPError\u001b[0m                                 Traceback (most recent call last)",
      "Cell \u001b[1;32mIn[3], line 5\u001b[0m\n\u001b[0;32m      3\u001b[0m response \u001b[38;5;241m=\u001b[39m requests\u001b[38;5;241m.\u001b[39mget(\u001b[38;5;124m'\u001b[39m\u001b[38;5;124mhttps://data.chhs.ca.gov/api/3/action/datastore_search?resource_id=d97adf28-ebaf-4204-a29e-bb6bdb7f96b9\u001b[39m\u001b[38;5;124m'\u001b[39m)\n\u001b[0;32m      4\u001b[0m \u001b[38;5;66;03m#Raise an exception if we made a request resulting in an error\u001b[39;00m\n\u001b[1;32m----> 5\u001b[0m response\u001b[38;5;241m.\u001b[39mraise_for_status()\n\u001b[0;32m      6\u001b[0m \u001b[38;5;66;03m#Get the JSON\u001b[39;00m\n\u001b[0;32m      7\u001b[0m json_response\u001b[38;5;241m=\u001b[39mresponse\u001b[38;5;241m.\u001b[39mjson()\n",
      "File \u001b[1;32m~\\anaconda3\\Lib\\site-packages\\requests\\models.py:1021\u001b[0m, in \u001b[0;36mResponse.raise_for_status\u001b[1;34m(self)\u001b[0m\n\u001b[0;32m   1016\u001b[0m     http_error_msg \u001b[38;5;241m=\u001b[39m (\n\u001b[0;32m   1017\u001b[0m         \u001b[38;5;124mf\u001b[39m\u001b[38;5;124m\"\u001b[39m\u001b[38;5;132;01m{\u001b[39;00m\u001b[38;5;28mself\u001b[39m\u001b[38;5;241m.\u001b[39mstatus_code\u001b[38;5;132;01m}\u001b[39;00m\u001b[38;5;124m Server Error: \u001b[39m\u001b[38;5;132;01m{\u001b[39;00mreason\u001b[38;5;132;01m}\u001b[39;00m\u001b[38;5;124m for url: \u001b[39m\u001b[38;5;132;01m{\u001b[39;00m\u001b[38;5;28mself\u001b[39m\u001b[38;5;241m.\u001b[39murl\u001b[38;5;132;01m}\u001b[39;00m\u001b[38;5;124m\"\u001b[39m\n\u001b[0;32m   1018\u001b[0m     )\n\u001b[0;32m   1020\u001b[0m \u001b[38;5;28;01mif\u001b[39;00m http_error_msg:\n\u001b[1;32m-> 1021\u001b[0m     \u001b[38;5;28;01mraise\u001b[39;00m HTTPError(http_error_msg, response\u001b[38;5;241m=\u001b[39m\u001b[38;5;28mself\u001b[39m)\n",
      "\u001b[1;31mHTTPError\u001b[0m: 403 Client Error: Forbidden for url: https://data.chhs.ca.gov/api/3/action/datastore_search?resource_id=d97adf28-ebaf-4204-a29e-bb6bdb7f96b9"
     ]
    }
   ],
   "source": [
    "#FILL IN\n",
    "#Exteact data via API\n",
    "response = requests.get('https://data.chhs.ca.gov/api/3/action/datastore_search?resource_id=d97adf28-ebaf-4204-a29e-bb6bdb7f96b9')\n",
    "#Raise an exception if we made a request resulting in an error\n",
    "response.raise_for_status()\n",
    "#Get the JSON\n",
    "json_response=response.json()\n",
    "json_response"
   ]
  },
  {
   "cell_type": "markdown",
   "id": "07af45c5",
   "metadata": {},
   "source": [
    "### 1.2 Parse the obtained data\n",
    "Parse the obtained data to get the **first** relevant data value or record from your JSON file. \n",
    "\n",
    "**Note:** Please ensure the result you obtain is in text and is relevant to hospital building data."
   ]
  },
  {
   "cell_type": "code",
   "execution_count": null,
   "id": "2b77f711",
   "metadata": {},
   "outputs": [],
   "source": [
    "#Fill in - get the first data record/value from the JSON results\n"
   ]
  },
  {
   "cell_type": "markdown",
   "id": "31df5db6",
   "metadata": {},
   "source": [
    "*Fill in*: What data did you see in the output value?"
   ]
  },
  {
   "cell_type": "markdown",
   "id": "7657973f",
   "metadata": {},
   "source": [
    "## 2. Extract a dataset via manual download"
   ]
  },
  {
   "cell_type": "markdown",
   "id": "1b65f129",
   "metadata": {},
   "source": [
    "### 2.1 Download a dataset manually\n",
    "We provided you a csv file `hospital_building_data.csv`. You can think that we pre-downlowed the data for you.\n",
    "\n",
    "Load the dataset into this notebook."
   ]
  },
  {
   "cell_type": "code",
   "execution_count": 4,
   "id": "8397fd65",
   "metadata": {},
   "outputs": [
    {
     "data": {
      "text/html": [
       "<div>\n",
       "<style scoped>\n",
       "    .dataframe tbody tr th:only-of-type {\n",
       "        vertical-align: middle;\n",
       "    }\n",
       "\n",
       "    .dataframe tbody tr th {\n",
       "        vertical-align: top;\n",
       "    }\n",
       "\n",
       "    .dataframe thead th {\n",
       "        text-align: right;\n",
       "    }\n",
       "</style>\n",
       "<table border=\"1\" class=\"dataframe\">\n",
       "  <thead>\n",
       "    <tr style=\"text-align: right;\">\n",
       "      <th></th>\n",
       "      <th>County Code</th>\n",
       "      <th>Perm ID</th>\n",
       "      <th>Facility Name</th>\n",
       "      <th>City</th>\n",
       "      <th>Building Nbr</th>\n",
       "      <th>Building Name</th>\n",
       "      <th>Building Status</th>\n",
       "      <th>SPC Rating *</th>\n",
       "      <th>Building URL</th>\n",
       "      <th>Height (ft)</th>\n",
       "      <th>Stories</th>\n",
       "      <th>Building Code</th>\n",
       "      <th>Building Code Year</th>\n",
       "      <th>Year Completed</th>\n",
       "      <th>AB 1882 Notice</th>\n",
       "      <th>Latitude</th>\n",
       "      <th>Longitude</th>\n",
       "      <th>Count</th>\n",
       "    </tr>\n",
       "  </thead>\n",
       "  <tbody>\n",
       "    <tr>\n",
       "      <th>0</th>\n",
       "      <td>01 - Alameda</td>\n",
       "      <td>11210</td>\n",
       "      <td>Alameda Hospital</td>\n",
       "      <td>Alameda</td>\n",
       "      <td>BLD-01278</td>\n",
       "      <td>Original Hospital</td>\n",
       "      <td>No Gen Acute Care - OSHPD Bldg</td>\n",
       "      <td>NaN</td>\n",
       "      <td>https://esp.oshpd.ca.gov/CitizenAccess/Cap/Cap...</td>\n",
       "      <td>44.17</td>\n",
       "      <td>4.0</td>\n",
       "      <td>Unknown</td>\n",
       "      <td>NaN</td>\n",
       "      <td>1926.0</td>\n",
       "      <td>NaN</td>\n",
       "      <td>37.762657</td>\n",
       "      <td>-122.253899</td>\n",
       "      <td>1</td>\n",
       "    </tr>\n",
       "    <tr>\n",
       "      <th>1</th>\n",
       "      <td>01 - Alameda</td>\n",
       "      <td>11210</td>\n",
       "      <td>Alameda Hospital</td>\n",
       "      <td>Alameda</td>\n",
       "      <td>BLD-01279</td>\n",
       "      <td>Stephens Wing</td>\n",
       "      <td>In Service</td>\n",
       "      <td>2</td>\n",
       "      <td>https://esp.oshpd.ca.gov/CitizenAccess/Cap/Cap...</td>\n",
       "      <td>35.00</td>\n",
       "      <td>3.0</td>\n",
       "      <td>1952 Uniform Building Code (UBC)</td>\n",
       "      <td>1952.0</td>\n",
       "      <td>1956.0</td>\n",
       "      <td>This building does not significantly jeopardiz...</td>\n",
       "      <td>37.762657</td>\n",
       "      <td>-122.253899</td>\n",
       "      <td>1</td>\n",
       "    </tr>\n",
       "    <tr>\n",
       "      <th>2</th>\n",
       "      <td>01 - Alameda</td>\n",
       "      <td>11210</td>\n",
       "      <td>Alameda Hospital</td>\n",
       "      <td>Alameda</td>\n",
       "      <td>BLD-01280</td>\n",
       "      <td>West Wing</td>\n",
       "      <td>In Service</td>\n",
       "      <td>2</td>\n",
       "      <td>https://esp.oshpd.ca.gov/CitizenAccess/Cap/Cap...</td>\n",
       "      <td>NaN</td>\n",
       "      <td>2.0</td>\n",
       "      <td>1964 Uniform Building Code (UBC)</td>\n",
       "      <td>1964.0</td>\n",
       "      <td>1968.0</td>\n",
       "      <td>This building does not significantly jeopardiz...</td>\n",
       "      <td>37.762657</td>\n",
       "      <td>-122.253899</td>\n",
       "      <td>1</td>\n",
       "    </tr>\n",
       "    <tr>\n",
       "      <th>3</th>\n",
       "      <td>01 - Alameda</td>\n",
       "      <td>11210</td>\n",
       "      <td>Alameda Hospital</td>\n",
       "      <td>Alameda</td>\n",
       "      <td>BLD-01281</td>\n",
       "      <td>South Wing</td>\n",
       "      <td>In Service</td>\n",
       "      <td>3s</td>\n",
       "      <td>https://esp.oshpd.ca.gov/CitizenAccess/Cap/Cap...</td>\n",
       "      <td>NaN</td>\n",
       "      <td>3.0</td>\n",
       "      <td>1976 California Building Code (CBC)</td>\n",
       "      <td>1976.0</td>\n",
       "      <td>1983.0</td>\n",
       "      <td>NaN</td>\n",
       "      <td>37.762657</td>\n",
       "      <td>-122.253899</td>\n",
       "      <td>1</td>\n",
       "    </tr>\n",
       "    <tr>\n",
       "      <th>4</th>\n",
       "      <td>01 - Alameda</td>\n",
       "      <td>11210</td>\n",
       "      <td>Alameda Hospital</td>\n",
       "      <td>Alameda</td>\n",
       "      <td>BLD-01282</td>\n",
       "      <td>Radiology Addition</td>\n",
       "      <td>In Service</td>\n",
       "      <td>5s</td>\n",
       "      <td>https://esp.oshpd.ca.gov/CitizenAccess/Cap/Cap...</td>\n",
       "      <td>NaN</td>\n",
       "      <td>2.0</td>\n",
       "      <td>1985 California Building Code (CBC)</td>\n",
       "      <td>1985.0</td>\n",
       "      <td>1995.0</td>\n",
       "      <td>NaN</td>\n",
       "      <td>37.762657</td>\n",
       "      <td>-122.253899</td>\n",
       "      <td>1</td>\n",
       "    </tr>\n",
       "  </tbody>\n",
       "</table>\n",
       "</div>"
      ],
      "text/plain": [
       "    County Code  Perm ID     Facility Name     City Building Nbr  \\\n",
       "0  01 - Alameda    11210  Alameda Hospital  Alameda    BLD-01278   \n",
       "1  01 - Alameda    11210  Alameda Hospital  Alameda    BLD-01279   \n",
       "2  01 - Alameda    11210  Alameda Hospital  Alameda    BLD-01280   \n",
       "3  01 - Alameda    11210  Alameda Hospital  Alameda    BLD-01281   \n",
       "4  01 - Alameda    11210  Alameda Hospital  Alameda    BLD-01282   \n",
       "\n",
       "        Building Name                 Building Status SPC Rating *  \\\n",
       "0   Original Hospital  No Gen Acute Care - OSHPD Bldg          NaN   \n",
       "1       Stephens Wing                      In Service            2   \n",
       "2           West Wing                      In Service            2   \n",
       "3          South Wing                      In Service           3s   \n",
       "4  Radiology Addition                      In Service           5s   \n",
       "\n",
       "                                        Building URL  Height (ft)  Stories  \\\n",
       "0  https://esp.oshpd.ca.gov/CitizenAccess/Cap/Cap...        44.17      4.0   \n",
       "1  https://esp.oshpd.ca.gov/CitizenAccess/Cap/Cap...        35.00      3.0   \n",
       "2  https://esp.oshpd.ca.gov/CitizenAccess/Cap/Cap...          NaN      2.0   \n",
       "3  https://esp.oshpd.ca.gov/CitizenAccess/Cap/Cap...          NaN      3.0   \n",
       "4  https://esp.oshpd.ca.gov/CitizenAccess/Cap/Cap...          NaN      2.0   \n",
       "\n",
       "                         Building Code  Building Code Year  Year Completed  \\\n",
       "0                              Unknown                 NaN          1926.0   \n",
       "1     1952 Uniform Building Code (UBC)              1952.0          1956.0   \n",
       "2     1964 Uniform Building Code (UBC)              1964.0          1968.0   \n",
       "3  1976 California Building Code (CBC)              1976.0          1983.0   \n",
       "4  1985 California Building Code (CBC)              1985.0          1995.0   \n",
       "\n",
       "                                      AB 1882 Notice   Latitude   Longitude  \\\n",
       "0                                                NaN  37.762657 -122.253899   \n",
       "1  This building does not significantly jeopardiz...  37.762657 -122.253899   \n",
       "2  This building does not significantly jeopardiz...  37.762657 -122.253899   \n",
       "3                                                NaN  37.762657 -122.253899   \n",
       "4                                                NaN  37.762657 -122.253899   \n",
       "\n",
       "   Count  \n",
       "0      1  \n",
       "1      1  \n",
       "2      1  \n",
       "3      1  \n",
       "4      1  "
      ]
     },
     "execution_count": 4,
     "metadata": {},
     "output_type": "execute_result"
    }
   ],
   "source": [
    "#FILL IN - load a dataset that was downloaded manually into a dataframe\n",
    "hospital_building=pd.read_csv('hospital_building_data.csv')\n",
    "hospital_building.head()"
   ]
  },
  {
   "cell_type": "markdown",
   "id": "7b6cb9d6",
   "metadata": {},
   "source": [
    "### 2.2 Parse the obtained data\n",
    "Parse the obtained data to get the **first** relevant data value or record from your manually downloaded dataset.\n",
    "\n",
    "**Note:** Please ensure the result you obtain is relevant to the hostiple building data."
   ]
  },
  {
   "cell_type": "code",
   "execution_count": null,
   "id": "631fcbb5",
   "metadata": {},
   "outputs": [],
   "source": [
    "#Fill in - get the first data record/value from the manually downloaded file\n"
   ]
  },
  {
   "cell_type": "markdown",
   "id": "b878e3aa",
   "metadata": {},
   "source": [
    "*Fill in*: What data did you see in the output? Is that the same with the data you gathered from the API?"
   ]
  },
  {
   "cell_type": "markdown",
   "id": "e704a48f",
   "metadata": {},
   "source": [
    "## 3. Extract a dataset via scraping"
   ]
  },
  {
   "cell_type": "markdown",
   "id": "6e328804",
   "metadata": {},
   "source": [
    "### 3.1 Extract your dataset via scraping\n",
    "Data webpage url:\n",
    "\n",
    "https://data.chhs.ca.gov/datastore/odata3.0/d97adf28-ebaf-4204-a29e-bb6bdb7f96b9\n",
    "\n",
    "Extract your dataset via scraping using `requests`, and `BeautifulSoup`."
   ]
  },
  {
   "cell_type": "code",
   "execution_count": null,
   "id": "6d87a189",
   "metadata": {},
   "outputs": [],
   "source": [
    "##FILL IN \n",
    "#Extract a dataset via scraping\n",
    "\n",
    "#Raise an exception if we made a request resulting in an error\n",
    "\n",
    "#Access the content of the response in Unicode\n"
   ]
  },
  {
   "cell_type": "code",
   "execution_count": null,
   "id": "ceb8f4d9",
   "metadata": {},
   "outputs": [],
   "source": [
    "#FILL IN\n",
    "# Use BeautifulSoup to parse the result\n",
    "\n",
    "# Print the prettified version\n"
   ]
  },
  {
   "cell_type": "markdown",
   "id": "28e7977e",
   "metadata": {},
   "source": [
    "### 3.2 Parse the obtained data \n",
    "**Note:** Please ensure the result you obtain is in text (not with HTML tags) and is relevant to the hospital buidling data. Hint: you can use the `find_all()` methood with tags like `d:buildingname`, `d:buildingcode`, etc."
   ]
  },
  {
   "cell_type": "code",
   "execution_count": null,
   "id": "de7ace94",
   "metadata": {},
   "outputs": [],
   "source": [
    "#FILL IN - parse specific records from scraped data"
   ]
  },
  {
   "cell_type": "markdown",
   "id": "cada7d88",
   "metadata": {},
   "source": [
    "*FILL IN*: Brief description of specific data parsed."
   ]
  }
 ],
 "metadata": {
  "kernelspec": {
   "display_name": "Python 3 (ipykernel)",
   "language": "python",
   "name": "python3"
  },
  "language_info": {
   "codemirror_mode": {
    "name": "ipython",
    "version": 3
   },
   "file_extension": ".py",
   "mimetype": "text/x-python",
   "name": "python",
   "nbconvert_exporter": "python",
   "pygments_lexer": "ipython3",
   "version": "3.11.5"
  }
 },
 "nbformat": 4,
 "nbformat_minor": 5
}
