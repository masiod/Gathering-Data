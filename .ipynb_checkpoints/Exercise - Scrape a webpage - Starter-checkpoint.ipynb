{
 "cells": [
  {
   "cell_type": "markdown",
   "id": "7919c520",
   "metadata": {},
   "source": [
    "# Exercise - Scrape a Webpage"
   ]
  },
  {
   "cell_type": "markdown",
   "id": "bf5e9c34",
   "metadata": {},
   "source": [
    "In this exercise, you'll be scraping the Internet Archive to gather data on an item in the archive.org: The book \"Robinson Crusoe\". \n",
    "\n",
    "This exercise allows you to practice your skills around scraping, gathering via an API, and filtering important data corresponding to an item in a catalog. Data wranglers apply these skills for many applications including gathering data on product reviews, movie recommendations, etc. \n",
    "\n",
    "Let's get started!"
   ]
  },
  {
   "cell_type": "code",
   "execution_count": 52,
   "id": "e9ca7cd0",
   "metadata": {},
   "outputs": [],
   "source": [
    "#Imports - do not modify\n",
    "import requests\n",
    "from bs4 import BeautifulSoup\n",
    "import json"
   ]
  },
  {
   "cell_type": "markdown",
   "id": "5cdd31a4",
   "metadata": {},
   "source": [
    "## 1. Scrape the HTML"
   ]
  },
  {
   "cell_type": "markdown",
   "id": "af6e5722",
   "metadata": {},
   "source": [
    "1.1 The novel Robison Crusoe is available on archive.org via the following url: https://archive.org/details/cu31924011498676/mode/2up. \n",
    "\n",
    "Create a HTTP GET request via the requests library to get the HTML in Unicode from this page."
   ]
  },
  {
   "cell_type": "code",
   "execution_count": 53,
   "id": "c49c1a9b",
   "metadata": {},
   "outputs": [
    {
     "ename": "TypeError",
     "evalue": "'bytes' object is not callable",
     "output_type": "error",
     "traceback": [
      "\u001b[1;31m---------------------------------------------------------------------------\u001b[0m",
      "\u001b[1;31mTypeError\u001b[0m                                 Traceback (most recent call last)",
      "Cell \u001b[1;32mIn[53], line 10\u001b[0m\n\u001b[0;32m      8\u001b[0m book_metadata\u001b[38;5;241m.\u001b[39mraise_for_status()\n\u001b[0;32m      9\u001b[0m \u001b[38;5;66;03m#Access the content of the response in Unicode\u001b[39;00m\n\u001b[1;32m---> 10\u001b[0m book_metadata\u001b[38;5;241m.\u001b[39mcontent()\n",
      "\u001b[1;31mTypeError\u001b[0m: 'bytes' object is not callable"
     ]
    }
   ],
   "source": [
    "#FILL IN\n",
    "item = \"https://archive.org/details/cu31924011498676/mode/2up\"\n",
    "\n",
    "#Create an HTTP GET request\n",
    "book_metadata = requests.get('https://archive.org/details/cu31924011498676/mode/2up.')\n",
    "\n",
    "#Raise an exception if we made a request resulting in an error\n",
    "book_metadata.raise_for_status()\n",
    "#Access the content of the response in Unicode\n",
    "book_metadata.content()\n",
    "#Print the result to check that it worked"
   ]
  },
  {
   "cell_type": "markdown",
   "id": "2461dd72",
   "metadata": {},
   "source": [
    "1.2 Use BeautifulSoup to parse the HTML. Optionally, you could prettify the HTML, so you can look through the file. "
   ]
  },
  {
   "cell_type": "code",
   "execution_count": null,
   "id": "1bfcea03",
   "metadata": {},
   "outputs": [],
   "source": [
    "#FILL IN\n",
    "#Use BeautifulSoup to parse the HTML\n",
    "with open('book_metadata.html','wb') as file:\n",
    "    file.write(book_metadata.content)\n",
    "#OPTIONAL - Print a clean (prettier) version to look through\n",
    "with open('book_metadata.html') as fp:\n",
    "    book_prefix=BeautifulSoup(fp,'html.parser')\n",
    "    \n"
   ]
  },
  {
   "cell_type": "code",
   "execution_count": null,
   "id": "fc9985e8",
   "metadata": {},
   "outputs": [],
   "source": [
    "print(book_prefix.prettify())"
   ]
  },
  {
   "cell_type": "markdown",
   "id": "c279ae50",
   "metadata": {},
   "source": [
    "Let's now answer a few questions around this item by getting specific tags from the HTML.\n",
    "\n",
    "**Note:** You can use a find/search tool (e.g., on Windows, Command F; on Mac, Control F) to identify tags in the HTML or download the prettified version locally to your system to use a Notepad application for searching the tags for the next section."
   ]
  },
  {
   "cell_type": "markdown",
   "id": "9a2467c0",
   "metadata": {},
   "source": [
    "1.3 What is the username of the uploader? Print the username in text **(not in HTML)**.\n",
    "\n",
    "**Hint**: This is the HTML snippet containing the username\n",
    "\n",
    "```\n",
    "<a class=\"item-upload-info__uploader-name\" href=\"/details/@hank_b\"> hank_b </a>\n",
    "```"
   ]
  },
  {
   "cell_type": "code",
   "execution_count": null,
   "id": "37522741",
   "metadata": {},
   "outputs": [],
   "source": [
    "#search form username \n",
    "user_name_collection=book_prefix.find('a',class_='item-upload-info__uploader-name').text.strip()\n",
    "\n",
    "user_name_collection\n",
    "    "
   ]
  },
  {
   "cell_type": "code",
   "execution_count": null,
   "id": "6c48e531",
   "metadata": {},
   "outputs": [],
   "source": [
    "#FILL IN\n",
    "#Find the tag\n",
    "username =user_name_collection\n",
    "\n",
    "#Strip the username from the HTML\n",
    "#Example code: username = username[0].text.strip()\n",
    "\n",
    "print(username)"
   ]
  },
  {
   "cell_type": "markdown",
   "id": "f223309b",
   "metadata": {},
   "source": [
    "1.4 How many pages does the book have? Print the results in text **(not in HTML)**.\n",
    "\n",
    "**Hint**: This is the HTML snippet containing the no. of pages.\n",
    "```\n",
    "<dl class=\"metadata-definition\">\n",
    "           <dt>\n",
    "            Pages\n",
    "           </dt>\n",
    "           <dd class=\"\">\n",
    "            <span itemprop=\"numberOfPages\">\n",
    "             418\n",
    "            </span>\n",
    "           </dd>\n",
    "          </dl>\n",
    "...\n",
    "```"
   ]
  },
  {
   "cell_type": "code",
   "execution_count": 54,
   "id": "3e4e9cf1",
   "metadata": {},
   "outputs": [
    {
     "name": "stdout",
     "output_type": "stream",
     "text": [
      "418\n"
     ]
    }
   ],
   "source": [
    "#FILL IN\n",
    "#Find the tag\n",
    "no_of_pages = book_prefix.find('span',itemprop='numberOfPages').text.strip()\n",
    "\n",
    "#Strip the number from the HTML\n",
    "# no_of_pages = \n",
    "print(no_of_pages)"
   ]
  },
  {
   "cell_type": "markdown",
   "id": "76b0e5dc",
   "metadata": {},
   "source": [
    "Check your work with the below assertions."
   ]
  },
  {
   "cell_type": "code",
   "execution_count": 55,
   "id": "f97f41d1",
   "metadata": {},
   "outputs": [],
   "source": [
    "#DO NOT MODIFY\n",
    "#Ensure these assert statements pass before moving to the next section\n",
    "assert username == 'hank_b'\n",
    "assert no_of_pages == '418'"
   ]
  },
  {
   "cell_type": "markdown",
   "id": "55c1d21f",
   "metadata": {},
   "source": [
    "## Use the API"
   ]
  },
  {
   "cell_type": "markdown",
   "id": "3d27aa75",
   "metadata": {},
   "source": [
    "With the Internet Archive, an item’s metadata can be fetched by making an HTTP GET request to its API https://archive.org/metadata/{identifier}. \n",
    "\n",
    "Our item's identifier is cu31924011498676.\n",
    "\n",
    "2.1 Use the requests library to get the metadata in JSON format and print the JSON."
   ]
  },
  {
   "cell_type": "code",
   "execution_count": 56,
   "id": "c28251fe",
   "metadata": {
    "scrolled": true
   },
   "outputs": [
    {
     "name": "stdout",
     "output_type": "stream",
     "text": [
      "{'created': 1703009806, 'd1': 'ia600307.us.archive.org', 'd2': 'ia800307.us.archive.org', 'dir': '/19/items/cu31924011498676', 'files': [{'name': '__ia_thumb.jpg', 'source': 'original', 'mtime': '1700390884', 'size': '27630', 'md5': '5e1dff9ea5cdfb3b5145466b9b495190', 'crc32': 'b2b415eb', 'sha1': '935fbc7e7c2ee006a7f355666396a5d56ec78364', 'format': 'Item Tile', 'rotation': '0'}, {'name': 'cu31924011498676.djvu', 'source': 'derivative', 'format': 'DjVu', 'original': 'cu31924011498676_djvu.xml', 'md5': '16569bba84d9dc64169ba7eb874e7aff', 'mtime': '1256993280', 'size': '5096265', 'crc32': '518887ee', 'sha1': 'a6323321b9a05ddcd526a78c95b7a5133432ce66'}, {'name': 'cu31924011498676.epub', 'source': 'derivative', 'original': 'cu31924011498676_abbyy.gz', 'mtime': '1700390882', 'size': '4340746', 'md5': '69e950415956abe17987b6a7a935c0fe', 'crc32': 'b729bd6c', 'sha1': '42d98cd0588ec38d7e5a84648d40b4ef1af02fc3', 'format': 'EPUB'}, {'name': 'cu31924011498676.gif', 'source': 'derivative', 'format': 'Animated GIF', 'original': 'cu31924011498676_jp2.zip', 'md5': '3ab57a3b872193de2870d527178f0ddf', 'mtime': '1256980127', 'size': '198932', 'crc32': '5e62ebda', 'sha1': 'ec12c558e1d286359566239cea2c2d3fc0f58b3a'}, {'name': 'cu31924011498676.pdf', 'source': 'derivative', 'format': 'Text PDF', 'original': 'cu31924011498676_djvu.xml', 'md5': '25b9f7bbbec3a96ebd3c28aa34424eef', 'mtime': '1256994624', 'size': '8987708', 'crc32': 'e0de8309', 'sha1': 'c0710a8729d9a06a8ef7b4f522ea6149f9b17880'}, {'name': 'cu31924011498676_abbyy.gz', 'source': 'derivative', 'format': 'Abbyy GZ', 'original': 'cu31924011498676_jp2.zip', 'md5': '9e6e452cf34b99a13ba8489246897127', 'mtime': '1256992099', 'size': '9286544', 'crc32': 'e49aedd3', 'sha1': '235047db44971800a2453b71bb5c091ad5b21c10'}, {'name': 'cu31924011498676_archive.torrent', 'source': 'metadata', 'btih': '2b15bd91f097d244d0a3498e7c82aa87d87d6471', 'mtime': '1700390889', 'size': '21013', 'md5': 'aad9a1ee9c6330951867fe8f094acd34', 'crc32': '009c5daf', 'sha1': 'c0de5d34306ac58c0baae8f6b2dbd82585254205', 'format': 'Archive BitTorrent'}, {'name': 'cu31924011498676_cubook.zip', 'source': 'original', 'format': 'Raw Cornell Book Zip', 'md5': 'bf24d3c4d37c9c05542832b00bab89c6', 'mtime': '1225460237', 'size': '218071474', 'crc32': '5a6e7fd3', 'sha1': 'faa9d4caf3a45efaec1d50deccd37df39f9c3ae3', 'filecount': '1687'}, {'name': 'cu31924011498676_dc.xml', 'source': 'original', 'md5': 'bcb56fc2c60b523d7a017222cc88113b', 'format': 'Dublin Core', 'mtime': '1652752777', 'size': '761', 'crc32': '495f1ff3', 'sha1': '143c8972c9d584d29d71d46aa9ed29be472d726b'}, {'name': 'cu31924011498676_djvu.txt', 'source': 'derivative', 'format': 'DjVuTXT', 'original': 'cu31924011498676.djvu', 'md5': '9b6137f341b4f686a609c987f7890dfe', 'mtime': '1256994640', 'size': '649605', 'crc32': '4dc214b0', 'sha1': '3969d5b4d071fd5ea8bbf0671fe99db1e097c8bd'}, {'name': 'cu31924011498676_djvu.xml', 'source': 'derivative', 'format': 'Djvu XML', 'original': 'cu31924011498676_abbyy.gz', 'md5': '9318fb2f9997b932d84cdad495c66b30', 'mtime': '1256992413', 'size': '6558421', 'crc32': 'b564829f', 'sha1': '478ea23d1f209e73a18047174722901a405ad6ce'}, {'name': 'cu31924011498676_files.xml', 'source': 'original', 'format': 'Metadata', 'md5': '099b3bf117cd61db59c82be4d14aa1cd', 'summation': 'md5'}, {'name': 'cu31924011498676_jp2.zip', 'source': 'derivative', 'format': 'Single Page Processed JP2 ZIP', 'original': 'cu31924011498676_cubook.zip', 'md5': 'd634b9bb6195c242a442593f2358b7fb', 'mtime': '1256980095', 'size': '197463086', 'crc32': 'df43f2c9', 'sha1': '668f2c048374a04394a77554cb12bc9b27ab9937', 'filecount': '418'}, {'name': 'cu31924011498676_marc.xml', 'source': 'original', 'md5': '4970e3007cff3285fa63bcad2fc266b2', 'format': 'MARC', 'mtime': '1199472502', 'size': '3741', 'crc32': 'f900ba3a', 'sha1': 'cc1dd8e3b28b0aef8d6ed694f4f1b5223e7895c9'}, {'name': 'cu31924011498676_meta.mrc', 'source': 'original', 'md5': 'fadc73ed14dfbffff08380fedaa3b896', 'format': 'MARC Binary', 'mtime': '1199472500', 'size': '952', 'crc32': 'f7716668', 'sha1': '2475328c831977f996dc3419e14b4583e48441bf'}, {'name': 'cu31924011498676_meta.xml', 'source': 'original', 'format': 'Metadata', 'mtime': '1652752777', 'size': '1934', 'md5': '57078a6da450512f5181508070e18e36', 'crc32': '768bde7c', 'sha1': '95081e5b0df0607c58c22cce0af8d9de2c43b6cd'}, {'name': 'cu31924011498676_reviews.xml', 'source': 'original', 'mtime': '1329837719', 'size': '423', 'md5': '126b502f44468fdcaa278562a53e3bba', 'crc32': '4cc9f3f5', 'sha1': '4f910ac41687fcb8a8d0fb0ed2caa9b627d51b4c', 'format': 'Metadata'}, {'name': 'cu31924011498676_scandata.xml', 'source': 'derivative', 'format': 'Scandata', 'original': 'cu31924011498676_djvu.xml', 'md5': '55599192f7d860e0e0d66e0327cdfc65', 'mtime': '1256992431', 'size': '148023', 'crc32': '33ccb632', 'sha1': '40b2423608402a66637247ccf56b8cf38b9978a9'}], 'files_count': 18, 'item_last_updated': 1700390889, 'item_size': 450857258, 'metadata': {'mediatype': 'texts', 'collection': ['cornell', 'americana'], 'title': 'Robinson Crusoe', 'identifier': 'cu31924011498676', 'uploader': 'hank@archive.org', 'addeddate': '2009-10-28 05:07:17', 'identifier-access': 'http://www.archive.org/details/cu31924011498676', 'identifier-ark': 'ark:/13960/t3qv43555', 'sponsor': 'MSN', 'contributor': 'Cornell University Library', 'description': ['The metadata below describe the original scanning. Follow the \"All Files: HTTP\" link in the \"View the book\" box to the left to find XML files that contain more metadata about the original images and the derived formats (OCR results, PDF etc.). See also the <a href=\"http://www.archive.org/about/faqs.php#140\" rel=\"nofollow\">What is the directory structure for the texts?</a> FAQ for information about file content and naming conventions.', '403 p., [7] leaves of plates : 20 cm'], 'camera': 'EOS-1DS MARK ll', 'lcamid': '329948', 'rcamid': '325521', 'operator': 'sdennis', 'scanner': 'Kirtas APT 2400', 'ppi': '300', 'creator': 'Defoe, Daniel, 1661?-1731', 'publisher': 'Philadelphia : G.W. Jacobs and Co.', 'date': '1920', 'language': 'eng', 'imagecount': '418', 'bookplateleaf': '0006', 'ocr': 'ABBYY FineReader 8.0', 'scandate': '20080104193732', 'foldoutcount': '0', 'repub_state': '4', 'publicdate': '2009-10-31 13:10:51', 'filesxml': 'Sun Mar 7 0:58:41 UTC 2010', 'backup_location': 'ia903604_8', 'openlibrary_edition': 'OL24152177M', 'openlibrary_work': 'OL45310W', 'usl_hit': 'auto', 'oclc-id': '7065065'}, 'reviews': [{'reviewbody': ':)', 'reviewtitle': 'h', 'reviewer': 'emmandreea', 'reviewdate': '2012-02-21 15:21:58', 'createdate': '2012-02-21 15:21:58', 'stars': '5'}], 'server': 'ia600307.us.archive.org', 'uniq': 315402127, 'workable_servers': ['ia600307.us.archive.org', 'ia800307.us.archive.org']}\n"
     ]
    }
   ],
   "source": [
    "#FILL IN\n",
    "#Create an HTTP GET request to the metadata API\n",
    "book= requests.get('https://archive.org/metadata/cu31924011498676')\n",
    "\n",
    "#Raise an exception if we made a request resulting in an error\n",
    "book.raise_for_status()\n",
    "#Get the JSON\n",
    "\n",
    "json_book_metadata=json.loads(book.content)\n",
    "print(json_book_metadata)"
   ]
  },
  {
   "cell_type": "code",
   "execution_count": null,
   "id": "665c5658",
   "metadata": {},
   "outputs": [],
   "source": []
  },
  {
   "cell_type": "markdown",
   "id": "35eeb19a",
   "metadata": {},
   "source": [
    "Inspect the hierarchy of attributes and retrieve values from the JSON to answer the following questions:\n",
    "\n",
    "2.2 What camera was used?"
   ]
  },
  {
   "cell_type": "code",
   "execution_count": 72,
   "id": "b74343d1",
   "metadata": {},
   "outputs": [
    {
     "data": {
      "text/plain": [
       "dict_keys(['created', 'd1', 'd2', 'dir', 'files', 'files_count', 'item_last_updated', 'item_size', 'metadata', 'reviews', 'server', 'uniq', 'workable_servers'])"
      ]
     },
     "execution_count": 72,
     "metadata": {},
     "output_type": "execute_result"
    }
   ],
   "source": [
    "#FILL IN\n",
    "#Get the name of the camera\n",
    "json_book_metadata.keys()\n",
    "\n",
    "camera_name =json_book_metadata['metadata']['camera']\n",
    "camera_name"
   ]
  },
  {
   "cell_type": "markdown",
   "id": "bfad6fd4",
   "metadata": {},
   "source": [
    "2.3 What is the size of the **PDF** of the book?\n",
    "\n",
    "**Hint:** The `files` attribute has a list as a value, so you will need to use list indexing to get to the PDF attribute. "
   ]
  },
  {
   "cell_type": "code",
   "execution_count": 89,
   "id": "5291d195",
   "metadata": {},
   "outputs": [
    {
     "data": {
      "text/plain": [
       "'8987708'"
      ]
     },
     "execution_count": 89,
     "metadata": {},
     "output_type": "execute_result"
    }
   ],
   "source": [
    "#FILL IN\n",
    "#Get the name of the PDF\n",
    "pdf_size=json_book_metadata['files'][4]['size']\n",
    "pdf_size\n"
   ]
  },
  {
   "cell_type": "markdown",
   "id": "0955e03b",
   "metadata": {},
   "source": [
    "Check your work with the below assertions."
   ]
  },
  {
   "cell_type": "code",
   "execution_count": null,
   "id": "1b96a05a",
   "metadata": {},
   "outputs": [],
   "source": [
    "#DO NOT MODIFY\n",
    "#Ensure these assert statements pass before moving on\n",
    "assert camera_name == 'EOS-1DS MARK ll'\n",
    "assert pdf_size == '8987708'"
   ]
  }
 ],
 "metadata": {
  "kernelspec": {
   "display_name": "Python 3 (ipykernel)",
   "language": "python",
   "name": "python3"
  },
  "language_info": {
   "codemirror_mode": {
    "name": "ipython",
    "version": 3
   },
   "file_extension": ".py",
   "mimetype": "text/x-python",
   "name": "python",
   "nbconvert_exporter": "python",
   "pygments_lexer": "ipython3",
   "version": "3.11.5"
  }
 },
 "nbformat": 4,
 "nbformat_minor": 5
}
