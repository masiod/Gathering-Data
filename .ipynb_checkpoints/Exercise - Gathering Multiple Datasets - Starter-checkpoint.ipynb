{
 "cells": [
  {
   "cell_type": "markdown",
   "id": "6748381c",
   "metadata": {},
   "source": [
    "# Exercise - Gathering Multiple Datasets\n",
    "\n",
    "In this excersise, you will gather the hospital building data using three different gathering methods. The data includes information on hospital buildings such as height, number of stories, etc.\n",
    "\n",
    "Ensure you programmatically load your dataset(s) into the notebook."
   ]
  },
  {
   "cell_type": "code",
   "execution_count": 1,
   "id": "4251e92c",
   "metadata": {},
   "outputs": [],
   "source": [
    "#Imports - can be modified\n",
    "import requests\n",
    "from bs4 import BeautifulSoup\n",
    "import json\n",
    "import pandas as pd"
   ]
  },
  {
   "cell_type": "markdown",
   "id": "9bc064b9",
   "metadata": {},
   "source": [
    "## 1. Extract a dataset via API"
   ]
  },
  {
   "cell_type": "markdown",
   "id": "adad0f09",
   "metadata": {},
   "source": [
    "### 1.1 Extract a dataset via API\n",
    "You may use the requests library to do so programmatically, or manually access the dataset via an API:\n",
    "\n",
    "https://data.chhs.ca.gov/api/3/action/datastore_search?resource_id=d97adf28-ebaf-4204-a29e-bb6bdb7f96b9"
   ]
  },
  {
   "cell_type": "code",
   "execution_count": 5,
   "id": "bbcef5d5",
   "metadata": {},
   "outputs": [
    {
     "ename": "HTTPError",
     "evalue": "403 Client Error: Forbidden for url: https://data.chhs.ca.gov/api/3/action/datastore_search?resource_id=d97adf28-ebaf-4204-a29e-bb6bdb7f96b9",
     "output_type": "error",
     "traceback": [
      "\u001b[1;31m---------------------------------------------------------------------------\u001b[0m",
      "\u001b[1;31mHTTPError\u001b[0m                                 Traceback (most recent call last)",
      "\u001b[1;32m~\\AppData\\Local\\Temp\\ipykernel_2040\\4128666953.py\u001b[0m in \u001b[0;36m<module>\u001b[1;34m\u001b[0m\n\u001b[0;32m      3\u001b[0m \u001b[0mresponse\u001b[0m\u001b[1;33m=\u001b[0m\u001b[0mrequests\u001b[0m\u001b[1;33m.\u001b[0m\u001b[0mget\u001b[0m\u001b[1;33m(\u001b[0m\u001b[1;34m'https://data.chhs.ca.gov/api/3/action/datastore_search?resource_id=d97adf28-ebaf-4204-a29e-bb6bdb7f96b9'\u001b[0m\u001b[1;33m)\u001b[0m\u001b[1;33m\u001b[0m\u001b[1;33m\u001b[0m\u001b[0m\n\u001b[0;32m      4\u001b[0m \u001b[1;31m#Raise an exception if we made a request resulting in an error\u001b[0m\u001b[1;33m\u001b[0m\u001b[1;33m\u001b[0m\u001b[0m\n\u001b[1;32m----> 5\u001b[1;33m \u001b[0mresponse\u001b[0m\u001b[1;33m.\u001b[0m\u001b[0mraise_for_status\u001b[0m\u001b[1;33m(\u001b[0m\u001b[1;33m)\u001b[0m\u001b[1;33m\u001b[0m\u001b[1;33m\u001b[0m\u001b[0m\n\u001b[0m\u001b[0;32m      6\u001b[0m \u001b[1;31m#Get the JSON\u001b[0m\u001b[1;33m\u001b[0m\u001b[1;33m\u001b[0m\u001b[0m\n\u001b[0;32m      7\u001b[0m \u001b[1;32mwith\u001b[0m \u001b[0mopen\u001b[0m\u001b[1;33m(\u001b[0m\u001b[0mresponse\u001b[0m\u001b[1;33m,\u001b[0m\u001b[1;34m'w'\u001b[0m\u001b[1;33m)\u001b[0m \u001b[1;32mas\u001b[0m \u001b[0mfile\u001b[0m\u001b[1;33m:\u001b[0m\u001b[1;33m\u001b[0m\u001b[1;33m\u001b[0m\u001b[0m\n",
      "\u001b[1;32m~\\anaconda3\\lib\\site-packages\\requests\\models.py\u001b[0m in \u001b[0;36mraise_for_status\u001b[1;34m(self)\u001b[0m\n\u001b[0;32m   1019\u001b[0m \u001b[1;33m\u001b[0m\u001b[0m\n\u001b[0;32m   1020\u001b[0m         \u001b[1;32mif\u001b[0m \u001b[0mhttp_error_msg\u001b[0m\u001b[1;33m:\u001b[0m\u001b[1;33m\u001b[0m\u001b[1;33m\u001b[0m\u001b[0m\n\u001b[1;32m-> 1021\u001b[1;33m             \u001b[1;32mraise\u001b[0m \u001b[0mHTTPError\u001b[0m\u001b[1;33m(\u001b[0m\u001b[0mhttp_error_msg\u001b[0m\u001b[1;33m,\u001b[0m \u001b[0mresponse\u001b[0m\u001b[1;33m=\u001b[0m\u001b[0mself\u001b[0m\u001b[1;33m)\u001b[0m\u001b[1;33m\u001b[0m\u001b[1;33m\u001b[0m\u001b[0m\n\u001b[0m\u001b[0;32m   1022\u001b[0m \u001b[1;33m\u001b[0m\u001b[0m\n\u001b[0;32m   1023\u001b[0m     \u001b[1;32mdef\u001b[0m \u001b[0mclose\u001b[0m\u001b[1;33m(\u001b[0m\u001b[0mself\u001b[0m\u001b[1;33m)\u001b[0m\u001b[1;33m:\u001b[0m\u001b[1;33m\u001b[0m\u001b[1;33m\u001b[0m\u001b[0m\n",
      "\u001b[1;31mHTTPError\u001b[0m: 403 Client Error: Forbidden for url: https://data.chhs.ca.gov/api/3/action/datastore_search?resource_id=d97adf28-ebaf-4204-a29e-bb6bdb7f96b9"
     ]
    }
   ],
   "source": [
    "#FILL IN\n",
    "#Exteact data via API\n",
    "response=requests.get('https://data.chhs.ca.gov/api/3/action/datastore_search?resource_id=d97adf28-ebaf-4204-a29e-bb6bdb7f96b9')\n",
    "#Raise an exception if we made a request resulting in an error\n",
    "response.raise_for_status()\n",
    "#Get the JSON\n",
    "with open(response,'w') as file:\n",
    "    json_file=file.json()\n",
    "json_file"
   ]
  },
  {
   "cell_type": "markdown",
   "id": "07af45c5",
   "metadata": {},
   "source": [
    "### 1.2 Parse the obtained data\n",
    "Parse the obtained data to get the **first** relevant data value or record from your JSON file. \n",
    "\n",
    "**Note:** Please ensure the result you obtain is in text and is relevant to hospital building data."
   ]
  },
  {
   "cell_type": "code",
   "execution_count": null,
   "id": "2b77f711",
   "metadata": {},
   "outputs": [],
   "source": [
    "#Fill in - get the first data record/value from the JSON results\n"
   ]
  },
  {
   "cell_type": "markdown",
   "id": "31df5db6",
   "metadata": {},
   "source": [
    "*Fill in*: What data did you see in the output value?"
   ]
  },
  {
   "cell_type": "markdown",
   "id": "7657973f",
   "metadata": {},
   "source": [
    "## 2. Extract a dataset via manual download"
   ]
  },
  {
   "cell_type": "markdown",
   "id": "1b65f129",
   "metadata": {},
   "source": [
    "### 2.1 Download a dataset manually\n",
    "We provided you a csv file `hospital_building_data.csv`. You can think that we pre-downlowed the data for you.\n",
    "\n",
    "Load the dataset into this notebook."
   ]
  },
  {
   "cell_type": "code",
   "execution_count": null,
   "id": "8397fd65",
   "metadata": {},
   "outputs": [],
   "source": [
    "#FILL IN - load a dataset that was downloaded manually into a dataframe\n"
   ]
  },
  {
   "cell_type": "markdown",
   "id": "7b6cb9d6",
   "metadata": {},
   "source": [
    "### 2.2 Parse the obtained data\n",
    "Parse the obtained data to get the **first** relevant data value or record from your manually downloaded dataset.\n",
    "\n",
    "**Note:** Please ensure the result you obtain is relevant to the hostiple building data."
   ]
  },
  {
   "cell_type": "code",
   "execution_count": null,
   "id": "631fcbb5",
   "metadata": {},
   "outputs": [],
   "source": [
    "#Fill in - get the first data record/value from the manually downloaded file\n"
   ]
  },
  {
   "cell_type": "markdown",
   "id": "b878e3aa",
   "metadata": {},
   "source": [
    "*Fill in*: What data did you see in the output? Is that the same with the data you gathered from the API?"
   ]
  },
  {
   "cell_type": "markdown",
   "id": "e704a48f",
   "metadata": {},
   "source": [
    "## 3. Extract a dataset via scraping"
   ]
  },
  {
   "cell_type": "markdown",
   "id": "6e328804",
   "metadata": {},
   "source": [
    "### 3.1 Extract your dataset via scraping\n",
    "Data webpage url:\n",
    "\n",
    "https://data.chhs.ca.gov/datastore/odata3.0/d97adf28-ebaf-4204-a29e-bb6bdb7f96b9\n",
    "\n",
    "Extract your dataset via scraping using `requests`, and `BeautifulSoup`."
   ]
  },
  {
   "cell_type": "code",
   "execution_count": null,
   "id": "6d87a189",
   "metadata": {},
   "outputs": [],
   "source": [
    "##FILL IN \n",
    "#Extract a dataset via scraping\n",
    "\n",
    "#Raise an exception if we made a request resulting in an error\n",
    "\n",
    "#Access the content of the response in Unicode\n"
   ]
  },
  {
   "cell_type": "code",
   "execution_count": null,
   "id": "ceb8f4d9",
   "metadata": {},
   "outputs": [],
   "source": [
    "#FILL IN\n",
    "# Use BeautifulSoup to parse the result\n",
    "\n",
    "# Print the prettified version\n"
   ]
  },
  {
   "cell_type": "markdown",
   "id": "28e7977e",
   "metadata": {},
   "source": [
    "### 3.2 Parse the obtained data \n",
    "**Note:** Please ensure the result you obtain is in text (not with HTML tags) and is relevant to the hospital buidling data. Hint: you can use the `find_all()` methood with tags like `d:buildingname`, `d:buildingcode`, etc."
   ]
  },
  {
   "cell_type": "code",
   "execution_count": null,
   "id": "de7ace94",
   "metadata": {},
   "outputs": [],
   "source": [
    "#FILL IN - parse specific records from scraped data"
   ]
  },
  {
   "cell_type": "markdown",
   "id": "cada7d88",
   "metadata": {},
   "source": [
    "*FILL IN*: Brief description of specific data parsed."
   ]
  }
 ],
 "metadata": {
  "kernelspec": {
   "display_name": "Python 3 (ipykernel)",
   "language": "python",
   "name": "python3"
  },
  "language_info": {
   "codemirror_mode": {
    "name": "ipython",
    "version": 3
   },
   "file_extension": ".py",
   "mimetype": "text/x-python",
   "name": "python",
   "nbconvert_exporter": "python",
   "pygments_lexer": "ipython3",
   "version": "3.9.13"
  }
 },
 "nbformat": 4,
 "nbformat_minor": 5
}
