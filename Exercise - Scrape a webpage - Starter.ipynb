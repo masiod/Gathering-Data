{
 "cells": [
  {
   "cell_type": "markdown",
   "id": "7919c520",
   "metadata": {},
   "source": [
    "# Exercise - Scrape a Webpage"
   ]
  },
  {
   "cell_type": "markdown",
   "id": "bf5e9c34",
   "metadata": {},
   "source": [
    "In this exercise, you'll be scraping the Internet Archive to gather data on an item in the archive.org: The book \"Robinson Crusoe\". \n",
    "\n",
    "This exercise allows you to practice your skills around scraping, gathering via an API, and filtering important data corresponding to an item in a catalog. Data wranglers apply these skills for many applications including gathering data on product reviews, movie recommendations, etc. \n",
    "\n",
    "Let's get started!"
   ]
  },
  {
   "cell_type": "code",
   "execution_count": null,
   "id": "e9ca7cd0",
   "metadata": {},
   "outputs": [],
   "source": [
    "#Imports - do not modify\n",
    "import requests\n",
    "from bs4 import BeautifulSoup"
   ]
  },
  {
   "cell_type": "markdown",
   "id": "5cdd31a4",
   "metadata": {},
   "source": [
    "## 1. Scrape the HTML"
   ]
  },
  {
   "cell_type": "markdown",
   "id": "af6e5722",
   "metadata": {},
   "source": [
    "1.1 The novel Robison Crusoe is available on archive.org via the following url: https://archive.org/details/cu31924011498676/mode/2up. \n",
    "\n",
    "Create a HTTP GET request via the requests library to get the HTML in Unicode from this page."
   ]
  },
  {
   "cell_type": "code",
   "execution_count": null,
   "id": "c49c1a9b",
   "metadata": {},
   "outputs": [],
   "source": [
    "#FILL IN\n",
    "item = \"https://archive.org/details/cu31924011498676/mode/2up\"\n",
    "\n",
    "#Create an HTTP GET request\n",
    "book_metadata = \n",
    "\n",
    "#Raise an exception if we made a request resulting in an error\n",
    "\n",
    "#Access the content of the response in Unicode\n",
    "\n",
    "#Print the result to check that it worked"
   ]
  },
  {
   "cell_type": "markdown",
   "id": "2461dd72",
   "metadata": {},
   "source": [
    "1.2 Use BeautifulSoup to parse the HTML. Optionally, you could prettify the HTML, so you can look through the file. "
   ]
  },
  {
   "cell_type": "code",
   "execution_count": null,
   "id": "1bfcea03",
   "metadata": {},
   "outputs": [],
   "source": [
    "#FILL IN\n",
    "#Use BeautifulSoup to parse the HTML\n",
    "\n",
    "#OPTIONAL - Print a clean (prettier) version to look through"
   ]
  },
  {
   "cell_type": "markdown",
   "id": "c279ae50",
   "metadata": {},
   "source": [
    "Let's now answer a few questions around this item by getting specific tags from the HTML.\n",
    "\n",
    "**Note:** You can use a find/search tool (e.g., on Windows, Command F; on Mac, Control F) to identify tags in the HTML or download the prettified version locally to your system to use a Notepad application for searching the tags for the next section."
   ]
  },
  {
   "cell_type": "markdown",
   "id": "9a2467c0",
   "metadata": {},
   "source": [
    "1.3 What is the username of the uploader? Print the username in text **(not in HTML)**.\n",
    "\n",
    "**Hint**: This is the HTML snippet containing the username\n",
    "\n",
    "```\n",
    "<a class=\"item-upload-info__uploader-name\" href=\"/details/@hank_b\"> hank_b </a>\n",
    "```"
   ]
  },
  {
   "cell_type": "code",
   "execution_count": null,
   "id": "6c48e531",
   "metadata": {},
   "outputs": [],
   "source": [
    "#FILL IN\n",
    "#Find the tag\n",
    "username = \n",
    "\n",
    "#Strip the username from the HTML\n",
    "#Example code: username = username[0].text.strip()\n",
    "username =\n",
    "print(username)"
   ]
  },
  {
   "cell_type": "markdown",
   "id": "f223309b",
   "metadata": {},
   "source": [
    "1.4 How many pages does the book have? Print the results in text **(not in HTML)**.\n",
    "\n",
    "**Hint**: This is the HTML snippet containing the no. of pages.\n",
    "```\n",
    "<dl class=\"metadata-definition\">\n",
    "           <dt>\n",
    "            Pages\n",
    "           </dt>\n",
    "           <dd class=\"\">\n",
    "            <span itemprop=\"numberOfPages\">\n",
    "             418\n",
    "            </span>\n",
    "           </dd>\n",
    "          </dl>\n",
    "...\n",
    "```"
   ]
  },
  {
   "cell_type": "code",
   "execution_count": null,
   "id": "3e4e9cf1",
   "metadata": {},
   "outputs": [],
   "source": [
    "#FILL IN\n",
    "#Find the tag\n",
    "no_of_pages = \n",
    "\n",
    "#Strip the number from the HTML\n",
    "no_of_pages = \n",
    "print(no_of_pages)"
   ]
  },
  {
   "cell_type": "markdown",
   "id": "76b0e5dc",
   "metadata": {},
   "source": [
    "Check your work with the below assertions."
   ]
  },
  {
   "cell_type": "code",
   "execution_count": null,
   "id": "f97f41d1",
   "metadata": {},
   "outputs": [],
   "source": [
    "#DO NOT MODIFY\n",
    "#Ensure these assert statements pass before moving to the next section\n",
    "assert username == 'hank_b'\n",
    "assert no_of_pages == '418'"
   ]
  },
  {
   "cell_type": "markdown",
   "id": "55c1d21f",
   "metadata": {},
   "source": [
    "## Use the API"
   ]
  },
  {
   "cell_type": "markdown",
   "id": "3d27aa75",
   "metadata": {},
   "source": [
    "With the Internet Archive, an item’s metadata can be fetched by making an HTTP GET request to its API https://archive.org/metadata/{identifier}. \n",
    "\n",
    "Our item's identifier is cu31924011498676.\n",
    "\n",
    "2.1 Use the requests library to get the metadata in JSON format and print the JSON."
   ]
  },
  {
   "cell_type": "code",
   "execution_count": null,
   "id": "c28251fe",
   "metadata": {
    "scrolled": true
   },
   "outputs": [],
   "source": [
    "#FILL IN\n",
    "#Create an HTTP GET request to the metadata API\n",
    "book_metadata = \n",
    "\n",
    "#Raise an exception if we made a request resulting in an error\n",
    "\n",
    "#Get the JSON"
   ]
  },
  {
   "cell_type": "markdown",
   "id": "35eeb19a",
   "metadata": {},
   "source": [
    "Inspect the hierarchy of attributes and retrieve values from the JSON to answer the following questions:\n",
    "\n",
    "2.2 What camera was used?"
   ]
  },
  {
   "cell_type": "code",
   "execution_count": null,
   "id": "b74343d1",
   "metadata": {},
   "outputs": [],
   "source": [
    "#FILL IN\n",
    "#Get the name of the camera\n",
    "camera_name = ..."
   ]
  },
  {
   "cell_type": "markdown",
   "id": "bfad6fd4",
   "metadata": {},
   "source": [
    "2.3 What is the size of the **PDF** of the book?\n",
    "\n",
    "**Hint:** The `files` attribute has a list as a value, so you will need to use list indexing to get to the PDF attribute. "
   ]
  },
  {
   "cell_type": "code",
   "execution_count": null,
   "id": "5291d195",
   "metadata": {},
   "outputs": [],
   "source": [
    "#FILL IN\n",
    "#Get the name of the PDF\n",
    "pdf_size = "
   ]
  },
  {
   "cell_type": "markdown",
   "id": "0955e03b",
   "metadata": {},
   "source": [
    "Check your work with the below assertions."
   ]
  },
  {
   "cell_type": "code",
   "execution_count": null,
   "id": "1b96a05a",
   "metadata": {},
   "outputs": [],
   "source": [
    "#DO NOT MODIFY\n",
    "#Ensure these assert statements pass before moving on\n",
    "assert camera_name == 'EOS-1DS MARK ll'\n",
    "assert pdf_size == '8987708'"
   ]
  }
 ],
 "metadata": {
  "kernelspec": {
   "display_name": "Python 3 (ipykernel)",
   "language": "python",
   "name": "python3"
  },
  "language_info": {
   "codemirror_mode": {
    "name": "ipython",
    "version": 3
   },
   "file_extension": ".py",
   "mimetype": "text/x-python",
   "name": "python",
   "nbconvert_exporter": "python",
   "pygments_lexer": "ipython3",
   "version": "3.10.10"
  }
 },
 "nbformat": 4,
 "nbformat_minor": 5
}
